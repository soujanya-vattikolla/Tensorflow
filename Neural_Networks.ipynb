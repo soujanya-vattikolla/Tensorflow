{
  "nbformat": 4,
  "nbformat_minor": 0,
  "metadata": {
    "colab": {
      "name": "Neural Networks.ipynb",
      "provenance": [],
      "collapsed_sections": [],
      "authorship_tag": "ABX9TyMZVBPe2wyAOnzYW1ZvUMGQ",
      "include_colab_link": true
    },
    "kernelspec": {
      "name": "python3",
      "display_name": "Python 3"
    },
    "language_info": {
      "name": "python"
    }
  },
  "cells": [
    {
      "cell_type": "markdown",
      "metadata": {
        "id": "view-in-github",
        "colab_type": "text"
      },
      "source": [
        "<a href=\"https://colab.research.google.com/github/soujanya-vattikolla/Tensorflow/blob/main/Neural_Networks.ipynb\" target=\"_parent\"><img src=\"https://colab.research.google.com/assets/colab-badge.svg\" alt=\"Open In Colab\"/></a>"
      ]
    },
    {
      "cell_type": "markdown",
      "source": [
        "###Introduction to Neural Networks"
      ],
      "metadata": {
        "id": "ODcdBA-0ONtf"
      }
    },
    {
      "cell_type": "markdown",
      "source": [
        "##Keras\n",
        "\n",
        "\"Keras is a high-level neural networks API, written in Python and capable of running on top of TensorFlow, CNTK, or Theano. \n",
        "\n",
        "Use Keras if you need a deep learning library that:\n",
        "\n",
        "- Allows for easy and fast prototyping (through user friendliness, modularity, and extensibility).\n",
        "- Supports both convolutional networks and recurrent networks, as well as combinations of the two.\n",
        "- Runs seamlessly on CPU and GPU.\"\n",
        "\n",
        "Keras is a very powerful module that allows us to avoid having to build neural networks from scratch. It also hides a lot of mathematical complexity (that otherwise we would have to implement) inside of helpful packages, modules and methods."
      ],
      "metadata": {
        "id": "4GYVD-NdOkCp"
      }
    },
    {
      "cell_type": "markdown",
      "source": [
        "##What is a Neural Network\n",
        "\n",
        "* A deep neural network is a layered representation of data. \n",
        "* The term \"deep\" refers to the presence of multiple layers. \n",
        "* A neural network processes our data differently. It attempts to represent our data in different ways and in different dimensions by applying specific operations to transform our data at each layer. Another way to express this is that at each layer our data is transformed in order to learn more about it. By performing these transformations, the model can better understand our data and therefore provide a better prediction. "
      ],
      "metadata": {
        "id": "qZH1g-4vQJv0"
      }
    },
    {
      "cell_type": "markdown",
      "source": [
        "##How it Works\n",
        "\n",
        "* Each neural network consists of a sequence of layers in which data passes through. \n",
        "* These layers are made up on neurons and the neurons of one layer are connected to the next (see below). \n",
        "* These connections are defined by what we call a weight (some numeric value). * Each layer also has something called a bias, this is simply an extra neuron that has no connections and holds a single numeric value. \n",
        "* Data starts at the input layer and is trasnformed as it passes through subsequent layers. The data at each subsequent neuron is defined as the following.\n",
        "\n",
        "> $Y =(\\sum_{i=0}^n w_i x_i) + b$\n",
        "\n",
        "> $w$ stands for the weight of each connection to the neuron\n",
        "\n",
        "> $x$ stands for the value of the connected neuron from the previous value\n",
        "\n",
        "> $b$ stands for the bias at each layer, this is a constant\n",
        "\n",
        "> $n$ is the number of connections\n",
        "\n",
        "> $Y$ is the output of the current neuron\n",
        "\n",
        "> $\\sum$ stands for sum\n",
        "\n",
        "* The equation you just read is called a weighed sum. \n",
        "* We will take this weighted sum at each and every neuron as we pass information through the network. \n",
        "* Then we will add what's called a bias to this sum. \n",
        "* The bias allows us to shift the network up or down by a constant value. It is like the y-intercept of a line.\n",
        "\n",
        "**Activation function** this is a function that we apply to the equation seen above to add complexity and dimensionality to our network. Our new equation with the addition of an activation function $F(x)$ is seen below.\n",
        "\n",
        "> $Y =F((\\sum_{i=0}^n w_i x_i) + b)$\n",
        "\n",
        "* The network will start with predefined activation functions (they may be different at each layer) but random weights and biases. \n",
        "* As we train the network by feeding it data it will learn the correct weights and biases and adjust the network accordingly using a technqiue called **backpropagation**. \n",
        "* Once the correct weights and biases have been learned the network will hopefully be able to give meaningful predictions. \n",
        "* We get these predictions by observing the values at our final layer, the output layer. "
      ],
      "metadata": {
        "id": "UmhePUOfQt-O"
      }
    },
    {
      "cell_type": "markdown",
      "source": [
        "##Breaking Down The Neural Network!\n",
        "\n",
        "How a neural network works and what it does.\n",
        "\n",
        "![alt text](http://www.extremetech.com/wp-content/uploads/2015/07/NeuralNetwork.png)\n",
        "*Figure 1*"
      ],
      "metadata": {
        "id": "MOuQGkeQR3nq"
      }
    },
    {
      "cell_type": "markdown",
      "source": [
        "###Data\n",
        "The type of data a neural network processes varies drastically based on the problem being solved.\n",
        "\n",
        "Some common types of data a neural network uses are listed below.\n",
        "- Vector Data (2D)\n",
        "- Timeseries or Sequence (3D)\n",
        "- Image Data (4D)\n",
        "- Video Data (5D)\n",
        "\n"
      ],
      "metadata": {
        "id": "PM4igqIDSAHr"
      }
    },
    {
      "cell_type": "markdown",
      "source": [
        "###Layers\n",
        "As we mentioned earlier each neural network consists of multiple layers. At each layer a different transformation of data occurs. Our initial input data is fed through the layers and eventually arrives at the output layer where we will obtain the result.\n",
        "####Input Layer\n",
        "The input layer is the layer that our initial data is passed to. It is the first layer in our neural network.\n",
        "####Output Layer\n",
        "The output layer is the layer that we will retrive our results from. Once the data has passed through all other layers it will arrive here.\n",
        "####Hidden Layer(s)\n",
        "All the other layers in our neural network are called \"hidden layers\". This is because they are hidden to us, we cannot observe them. Most neural networks consist of at least one hidden layer but can have an unlimited amount. Typically, the more complex the model the more hidden layers.\n",
        "####Neurons\n",
        "* Each layer is made up of what are called neurons. \n",
        "* The important aspect to understand now is that each neuron is responsible for generating/holding/passing ONE numeric value. \n",
        "\n",
        "This means that in the case of our input layer it will have as many neurons as we have input information. For example, say we want to pass an image that is 28x28 pixels, thats 784 pixels. We would need 784 neurons in our input layer to capture each of these pixels. \n",
        "\n",
        "This also means that our output layer will have as many neurons as we have output information.\n",
        "\n",
        "####Connected Layers\n",
        "The neurons in one layer will be connected to neurons in the subsequent layer. \n",
        "\n",
        "Take for example *Figure 1* (above image). Each neuron in one layer is connected to every neuron in the next layer. This is called a **dense** layer. "
      ],
      "metadata": {
        "id": "ujDx4rKiTKwm"
      }
    },
    {
      "cell_type": "markdown",
      "source": [
        "###Weights\n",
        "\n",
        "* Weights are associated with each connection in our neural network. \n",
        "* Every pair of connected nodes will have one weight that denotes the strength of the connection between them.  \n",
        "* Weights start out at a constant or random value and will change as the network sees training data."
      ],
      "metadata": {
        "id": "VvJirNtlT8yY"
      }
    },
    {
      "cell_type": "markdown",
      "source": [
        "###Biases\n",
        "\n",
        "* A bias is simply a constant value associated with each layer. \n",
        "* It can be thought of as an extra neuron that has no connections. \n",
        "* The purpose of a bias is to shift an entire activation function by a constant value. \n",
        "* This allows a lot more flexibllity when it comes to choosing an activation and training the network. There is one bias for each layer."
      ],
      "metadata": {
        "id": "pUovd4hnUYr-"
      }
    },
    {
      "cell_type": "markdown",
      "source": [
        "###Activation Function\n",
        "\n",
        "Activation functions are simply a function that is applied to the weighed sum of a neuron. They can be anything we want but are typically higher order/degree functions that aim to add a higher dimension to our data. \n",
        "\n",
        "A list of some common activation functions and their graphs can be seen below.\n",
        "\n",
        "- Relu (Rectified Linear Unit)\n",
        "\n",
        "![alt text](https://yashuseth.files.wordpress.com/2018/02/relu-function.png?w=309&h=274)\n",
        "- Tanh (Hyperbolic Tangent)\n",
        "\n",
        "![alt text](http://mathworld.wolfram.com/images/interactive/TanhReal.gif)\n",
        "- Sigmoid \n",
        "\n",
        "![alt text](https://miro.medium.com/max/970/1*Xu7B5y9gp0iL5ooBj7LtWw.png)"
      ],
      "metadata": {
        "id": "P2Ap1Gl-UlGo"
      }
    },
    {
      "cell_type": "markdown",
      "source": [
        "###Backpropagation\n",
        "\n",
        "Backpropagation is the fundamental algorithm behind training neural networks. It is what changes the weights and biases of our network. \n",
        "\n",
        "####Loss/Cost Function\n",
        "\n",
        "The cost/loss function is responsible for determining how well the network did. We pass it the output and the expected output, and it returns to us some value representing the cost/loss of the network. This effectively makes the networks job to optimize this cost function, trying to make it as low as possible. \n",
        "\n",
        "Some common loss/cost functions include.\n",
        "- Mean Squared Error\n",
        "- Mean Absolute Error\n",
        "- Hinge Loss\n",
        "\n",
        "####Gradient Descent\n",
        "Gradient descent is the algorithm used to find the optimal paramaters (weights and biases) for our network, while backpropagation is the process of calculating the gradient that is used in the gradient descent step. \n",
        "\n",
        "\"Gradient descent is an optimization algorithm used to minimize some function by iteratively moving in the direction of steepest descent as defined by the negative of the gradient.\n",
        "\n",
        "\n"
      ],
      "metadata": {
        "id": "8Q9sAXvSUtTb"
      }
    },
    {
      "cell_type": "markdown",
      "source": [
        "###Optimizer\n",
        "\n",
        "This is simply the function that implements the backpropagation algorithm described above. Here's a list of a few common ones.\n",
        "- Gradient Descent\n",
        "- Stochastic Gradient Descent\n",
        "- Mini-Batch Gradient Descent\n",
        "- Momentum\n",
        "- Nesterov Accelerated Gradient\n"
      ],
      "metadata": {
        "id": "qud4yoyYcV4n"
      }
    },
    {
      "cell_type": "markdown",
      "source": [
        "###Creating a Neural Network"
      ],
      "metadata": {
        "id": "oyNyzhdxcWFA"
      }
    },
    {
      "cell_type": "markdown",
      "source": [
        "###Imports"
      ],
      "metadata": {
        "id": "Xp90wZ73cWRL"
      }
    },
    {
      "cell_type": "code",
      "source": [
        "import tensorflow as tf\n",
        "from tensorflow import keras\n",
        "\n",
        "# Helper libraries\n",
        "import numpy as np\n",
        "import matplotlib.pyplot as plt"
      ],
      "metadata": {
        "id": "W7uY8Y6NcdgK"
      },
      "execution_count": null,
      "outputs": []
    },
    {
      "cell_type": "markdown",
      "source": [
        "###Dataset\n",
        "We will use the MNIST Fashion Dataset. \n",
        "\n",
        "This dataset includes 60,000 images for training and 10,000 images for validation/testing."
      ],
      "metadata": {
        "id": "9NBBrsA8rm_r"
      }
    },
    {
      "cell_type": "code",
      "source": [
        "fashion_mnist = keras.datasets.fashion_mnist  # load dataset\n",
        "\n",
        "(train_images, train_labels), (test_images, test_labels) = fashion_mnist.load_data()  # split the data in training and testing"
      ],
      "metadata": {
        "id": "JXbZXKEYvBCW"
      },
      "execution_count": null,
      "outputs": []
    },
    {
      "cell_type": "code",
      "source": [
        "# shape of the data\n",
        "train_images.shape"
      ],
      "metadata": {
        "colab": {
          "base_uri": "https://localhost:8080/"
        },
        "id": "EBXKrxWTvLMe",
        "outputId": "359cf281-86f8-48cf-e2d7-b8b1a77523cb"
      },
      "execution_count": null,
      "outputs": [
        {
          "output_type": "execute_result",
          "data": {
            "text/plain": [
              "(60000, 28, 28)"
            ]
          },
          "metadata": {},
          "execution_count": 4
        }
      ]
    },
    {
      "cell_type": "markdown",
      "source": [
        "So we've got 60,000 images that are made up of 28x28 pixels (784 in total)."
      ],
      "metadata": {
        "id": "Q7qejnP0vO_G"
      }
    },
    {
      "cell_type": "code",
      "source": [
        "train_images[0,23,23]  # let's have a look at one pixel"
      ],
      "metadata": {
        "colab": {
          "base_uri": "https://localhost:8080/"
        },
        "id": "UtclXXj1vWwt",
        "outputId": "11e23772-5686-414b-8657-95127bf3bc22"
      },
      "execution_count": null,
      "outputs": [
        {
          "output_type": "execute_result",
          "data": {
            "text/plain": [
              "194"
            ]
          },
          "metadata": {},
          "execution_count": 5
        }
      ]
    },
    {
      "cell_type": "markdown",
      "source": [
        "Our pixel values are between 0 and 255, 0 being black and 255 being white. This means we have a grayscale image as there are no color channels."
      ],
      "metadata": {
        "id": "0Z4LNjQlvZ1d"
      }
    },
    {
      "cell_type": "code",
      "source": [
        "train_labels[:10]  # let's have a look at the first 10 training labels"
      ],
      "metadata": {
        "colab": {
          "base_uri": "https://localhost:8080/"
        },
        "id": "bvGE_6iTyLV2",
        "outputId": "6ae2a820-2f05-4be6-bdc5-605bfd1b24ce"
      },
      "execution_count": null,
      "outputs": [
        {
          "output_type": "execute_result",
          "data": {
            "text/plain": [
              "array([9, 0, 0, 3, 0, 2, 7, 2, 5, 5], dtype=uint8)"
            ]
          },
          "metadata": {},
          "execution_count": 6
        }
      ]
    },
    {
      "cell_type": "markdown",
      "source": [
        "Our labels are integers ranging from 0 - 9. Each integer represents a specific article of clothing. We'll create an array of label names."
      ],
      "metadata": {
        "id": "NIfOJhDdyQft"
      }
    },
    {
      "cell_type": "code",
      "source": [
        "class_names = ['T-shirt/top', 'Trouser', 'Pullover', 'Dress', 'Coat',\n",
        "               'Sandal', 'Shirt', 'Sneaker', 'Bag', 'Ankle boot']"
      ],
      "metadata": {
        "id": "WlJs4O74yTck"
      },
      "execution_count": null,
      "outputs": []
    },
    {
      "cell_type": "markdown",
      "source": [
        "Fianlly let's look at what some of these images look like!"
      ],
      "metadata": {
        "id": "8PmjIdLAyWv9"
      }
    },
    {
      "cell_type": "code",
      "source": [
        "plt.figure()\n",
        "plt.imshow(train_images[1])\n",
        "plt.colorbar()\n",
        "plt.grid(False)\n",
        "plt.show()"
      ],
      "metadata": {
        "colab": {
          "base_uri": "https://localhost:8080/",
          "height": 265
        },
        "id": "uaWgysttyZLl",
        "outputId": "4139c3bf-0dca-400e-b5f1-a792c149e20d"
      },
      "execution_count": null,
      "outputs": [
        {
          "output_type": "display_data",
          "data": {
            "text/plain": [
              "<Figure size 432x288 with 2 Axes>"
            ],
            "image/png": "[encoded data removed]"
          },
          "metadata": {
            "needs_background": "light"
          }
        }
      ]
    },
    {
      "cell_type": "markdown",
      "source": [
        "##Data Preprocessing\n",
        "\n",
        "In this case we will simply scale all our greyscale pixel values (0-255) to be between 0 and 1. We can do this by dividing each value in the training and testing sets by 255.0. We do this because smaller values will make it easier for the model to process our values. "
      ],
      "metadata": {
        "id": "pGF65n0bydsi"
      }
    },
    {
      "cell_type": "code",
      "source": [
        "train_images = train_images / 255.0\n",
        "\n",
        "test_images = test_images / 255.0"
      ],
      "metadata": {
        "id": "au1idyvnzh3E"
      },
      "execution_count": null,
      "outputs": []
    },
    {
      "cell_type": "markdown",
      "source": [
        "Building the Model\n"
      ],
      "metadata": {
        "id": "V1iY74Mczn6G"
      }
    },
    {
      "cell_type": "code",
      "source": [
        "model = keras.Sequential([\n",
        "    keras.layers.Flatten(input_shape=(28, 28)),  # input layer (1)\n",
        "    keras.layers.Dense(128, activation='relu'),  # hidden layer (2)\n",
        "    keras.layers.Dense(10, activation='softmax') # output layer (3)\n",
        "])"
      ],
      "metadata": {
        "id": "m5EGrbPAzuIO"
      },
      "execution_count": null,
      "outputs": []
    },
    {
      "cell_type": "markdown",
      "source": [
        "**Layer 1:** This is our input layer and it will conist of 784 neurons. We use the flatten layer with an input shape of (28,28) to denote that our input should come in that shape. The flatten means that our layer will reshape the shape (28,28) array into a vector of 784 neurons so that each pixel will be associated with one neuron.\n",
        "\n",
        "**Layer 2:** This is our first and only hidden layer. The *dense* denotes that this layer will be fully connected and each neuron from the previous layer connects to each neuron of this layer. It has 128 neurons and uses the rectify linear unit activation function.\n",
        "\n",
        "**Layer 3:** This is our output later and is also a dense layer. It has 10 neurons that we will look at to determine our models output. Each neuron represents the probabillity of a given image being one of the 10 different classes. The activation function *softmax* is used on this layer to calculate a probabillity distribution for each class. This means the value of any neuron in this layer will be between 0 and 1, where 1 represents a high probabillity of the image being that class."
      ],
      "metadata": {
        "id": "U9kjHabCzygf"
      }
    },
    {
      "cell_type": "markdown",
      "source": [
        "###Compile the Model\n",
        "\n",
        "The last step in building the model is to define the loss function, optimizer and metrics we would like to track."
      ],
      "metadata": {
        "id": "ynAnKcnf0abn"
      }
    },
    {
      "cell_type": "code",
      "source": [
        "model.compile(optimizer='adam',\n",
        "              loss='sparse_categorical_crossentropy',\n",
        "              metrics=['accuracy'])"
      ],
      "metadata": {
        "id": "XzSZMT3E0fbn"
      },
      "execution_count": null,
      "outputs": []
    },
    {
      "cell_type": "markdown",
      "source": [
        "##Training the Model\n"
      ],
      "metadata": {
        "id": "IeTl4MAJ0jdC"
      }
    },
    {
      "cell_type": "code",
      "source": [
        "model.fit(train_images, train_labels, epochs=10)  # we pass the data, labels and epochs."
      ],
      "metadata": {
        "colab": {
          "base_uri": "https://localhost:8080/"
        },
        "id": "VvpIa1MC0mzs",
        "outputId": "b270092b-0c2c-4095-c058-73949611d848"
      },
      "execution_count": null,
      "outputs": [
        {
          "output_type": "stream",
          "name": "stdout",
          "text": [
            "Epoch 1/10\n",
            "1875/1875 [==============================] - 5s 3ms/step - loss: 0.4944 - accuracy: 0.8266\n",
            "Epoch 2/10\n",
            "1875/1875 [==============================] - 5s 2ms/step - loss: 0.3731 - accuracy: 0.8637\n",
            "Epoch 3/10\n",
            "1875/1875 [==============================] - 4s 2ms/step - loss: 0.3347 - accuracy: 0.8784\n",
            "Epoch 4/10\n",
            "1875/1875 [==============================] - 5s 2ms/step - loss: 0.3115 - accuracy: 0.8859\n",
            "Epoch 5/10\n",
            "1875/1875 [==============================] - 5s 2ms/step - loss: 0.2943 - accuracy: 0.8916\n",
            "Epoch 6/10\n",
            "1875/1875 [==============================] - 5s 3ms/step - loss: 0.2795 - accuracy: 0.8968\n",
            "Epoch 7/10\n",
            "1875/1875 [==============================] - 5s 2ms/step - loss: 0.2675 - accuracy: 0.9021\n",
            "Epoch 8/10\n",
            "1875/1875 [==============================] - 4s 2ms/step - loss: 0.2569 - accuracy: 0.9050\n",
            "Epoch 9/10\n",
            "1875/1875 [==============================] - 5s 2ms/step - loss: 0.2484 - accuracy: 0.9077\n",
            "Epoch 10/10\n",
            "1875/1875 [==============================] - 5s 2ms/step - loss: 0.2389 - accuracy: 0.9118\n"
          ]
        },
        {
          "output_type": "execute_result",
          "data": {
            "text/plain": [
              "<keras.callbacks.History at 0x7fada76ea690>"
            ]
          },
          "metadata": {},
          "execution_count": 12
        }
      ]
    },
    {
      "cell_type": "markdown",
      "source": [
        "##Evaluating the Model"
      ],
      "metadata": {
        "id": "ziK4Li9p0rT9"
      }
    },
    {
      "cell_type": "code",
      "source": [
        "test_loss, test_acc = model.evaluate(test_images,  test_labels, verbose=1) \n",
        "\n",
        "print('Test accuracy:', test_acc)"
      ],
      "metadata": {
        "colab": {
          "base_uri": "https://localhost:8080/"
        },
        "id": "a6xYnQVh0uXM",
        "outputId": "9a3f2264-b707-4140-a8bd-22766ee14cbd"
      },
      "execution_count": null,
      "outputs": [
        {
          "output_type": "stream",
          "name": "stdout",
          "text": [
            "313/313 [==============================] - 1s 2ms/step - loss: 0.3463 - accuracy: 0.8798\n",
            "Test accuracy: 0.879800021648407\n"
          ]
        }
      ]
    },
    {
      "cell_type": "markdown",
      "source": [
        "##Making Predictions"
      ],
      "metadata": {
        "id": "l4Nk-wT-2G9r"
      }
    },
    {
      "cell_type": "code",
      "source": [
        "predictions = model.predict(test_images)\n",
        "print(class_names[np.argmax(predictions[5])])\n",
        "plt.figure()\n",
        "plt.imshow(train_images[5])\n",
        "plt.colorbar()\n",
        "plt.grid(False)\n",
        "plt.show()"
      ],
      "metadata": {
        "colab": {
          "base_uri": "https://localhost:8080/",
          "height": 287
        },
        "id": "cwIRcYIX2HZ_",
        "outputId": "09d9f53f-4224-495a-cb85-6a23618e52b0"
      },
      "execution_count": null,
      "outputs": [
        {
          "output_type": "stream",
          "name": "stdout",
          "text": [
            "Trouser\n"
          ]
        },
        {
          "output_type": "display_data",
          "data": {
            "text/plain": [
              "<Figure size 432x288 with 2 Axes>"
            ],
            "image/png": "[encoded data removed]"
          },
          "metadata": {
            "needs_background": "light"
          }
        }
      ]
    },
    {
      "cell_type": "markdown",
      "source": [
        "This method returns to us an array of predictions for each image we passed it. Let's have a look at the predictions for image 1."
      ],
      "metadata": {
        "id": "pDe-iG762KmN"
      }
    },
    {
      "cell_type": "code",
      "source": [
        "predictions[0]"
      ],
      "metadata": {
        "colab": {
          "base_uri": "https://localhost:8080/"
        },
        "id": "oVHIbaoq2Nul",
        "outputId": "6d9030f9-2070-435a-f015-50cb33f4b132"
      },
      "execution_count": null,
      "outputs": [
        {
          "output_type": "execute_result",
          "data": {
            "text/plain": [
              "array([3.2952403e-07, 4.6883875e-09, 1.0421501e-08, 7.6391109e-07,\n",
              "       4.1833612e-09, 3.8162700e-04, 9.4661539e-07, 3.5776887e-02,\n",
              "       6.4753823e-07, 9.6383882e-01], dtype=float32)"
            ]
          },
          "metadata": {},
          "execution_count": 15
        }
      ]
    },
    {
      "cell_type": "code",
      "source": [
        "np.argmax(predictions[0])"
      ],
      "metadata": {
        "colab": {
          "base_uri": "https://localhost:8080/"
        },
        "id": "vFwfIBW12aPl",
        "outputId": "38e13d9f-26a3-4188-c32c-14aab90e1163"
      },
      "execution_count": null,
      "outputs": [
        {
          "output_type": "execute_result",
          "data": {
            "text/plain": [
              "9"
            ]
          },
          "metadata": {},
          "execution_count": 16
        }
      ]
    },
    {
      "cell_type": "markdown",
      "source": [
        "And we can check if this is correct by looking at the value of the cooresponding test label.\n",
        "\n"
      ],
      "metadata": {
        "id": "Pn8cYZhf2jle"
      }
    },
    {
      "cell_type": "code",
      "source": [
        "test_labels[0]"
      ],
      "metadata": {
        "colab": {
          "base_uri": "https://localhost:8080/"
        },
        "id": "nSu8FPZC2ky-",
        "outputId": "a7d95686-29f0-4a57-8b34-4d32deb925b7"
      },
      "execution_count": null,
      "outputs": [
        {
          "output_type": "execute_result",
          "data": {
            "text/plain": [
              "9"
            ]
          },
          "metadata": {},
          "execution_count": 17
        }
      ]
    },
    {
      "cell_type": "markdown",
      "source": [
        "Verifying Predictions"
      ],
      "metadata": {
        "id": "MYtu7zB92oKF"
      }
    },
    {
      "cell_type": "code",
      "source": [
        "COLOR = 'white'\n",
        "plt.rcParams['text.color'] = COLOR\n",
        "plt.rcParams['axes.labelcolor'] = COLOR\n",
        "\n",
        "def predict(model, image, correct_label):\n",
        "  class_names = ['T-shirt/top', 'Trouser', 'Pullover', 'Dress', 'Coat',\n",
        "               'Sandal', 'Shirt', 'Sneaker', 'Bag', 'Ankle boot']\n",
        "  prediction = model.predict(np.array([image]))\n",
        "  predicted_class = class_names[np.argmax(prediction)]\n",
        "\n",
        "  show_image(image, class_names[correct_label], predicted_class)\n",
        "\n",
        "def show_image(img, label, guess):\n",
        "    plt.figure()\n",
        "    plt.imshow(img, cmap=plt.cm.binary)\n",
        "    plt.title(\"Excpected: \" + label)\n",
        "    plt.xlabel(\"Guess: \" + guess)\n",
        "    plt.colorbar()\n",
        "    plt.grid(False)\n",
        "    plt.show()\n",
        "\n",
        "\n",
        "def get_number():\n",
        "  while True:\n",
        "    num = input(\"Pick a number: \")\n",
        "    if num.isdigit():\n",
        "      num = int(num)\n",
        "      if 0 <= num <= 1000:\n",
        "        return int(num)\n",
        "    else:\n",
        "      print(\"Try again...\")\n",
        "\n",
        "num = get_number()\n",
        "image = test_images[num]\n",
        "label = test_labels[num]\n",
        "predict(model, image, label)\n",
        "\n"
      ],
      "metadata": {
        "colab": {
          "base_uri": "https://localhost:8080/",
          "height": 313
        },
        "id": "FhqysspG2ok2",
        "outputId": "b442f00c-8a75-4ce5-9755-5f84ebd3715b"
      },
      "execution_count": null,
      "outputs": [
        {
          "name": "stdout",
          "output_type": "stream",
          "text": [
            "Pick a number: 5\n"
          ]
        },
        {
          "output_type": "display_data",
          "data": {
            "text/plain": [
              "<Figure size 432x288 with 2 Axes>"
            ],
            "image/png": "[encoded data removed]"
          },
          "metadata": {
            "needs_background": "light"
          }
        }
      ]
    },
    {
      "cell_type": "code",
      "source": [
        ""
      ],
      "metadata": {
        "id": "UseF-Dkz31j8"
      },
      "execution_count": null,
      "outputs": []
    }
  ]
}