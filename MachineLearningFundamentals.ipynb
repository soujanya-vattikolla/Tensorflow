{
  "nbformat": 4,
  "nbformat_minor": 0,
  "metadata": {
    "colab": {
      "name": "Machine Learning Fundamentals .ipynb",
      "provenance": [],
      "collapsed_sections": [],
      "authorship_tag": "ABX9TyP+h45aA5SpJIBX8ZiF+9ej",
      "include_colab_link": true
    },
    "kernelspec": {
      "name": "python3",
      "display_name": "Python 3"
    },
    "language_info": {
      "name": "python"
    }
  },
  "cells": [
    {
      "cell_type": "markdown",
      "metadata": {
        "id": "view-in-github",
        "colab_type": "text"
      },
      "source": [
        "<a href=\"https://colab.research.google.com/github/soujanya-vattikolla/Tensorflow/blob/main/MachineLearningFundamentals.ipynb\" target=\"_parent\"><img src=\"https://colab.research.google.com/assets/colab-badge.svg\" alt=\"Open In Colab\"/></a>"
      ]
    },
    {
      "cell_type": "markdown",
      "source": [
        "**Machine Learning:**\n",
        "\n",
        "Rather than giving the program the rules, an algorithm finds the rules for us."
      ],
      "metadata": {
        "id": "J5V-UvLuYbWJ"
      }
    },
    {
      "cell_type": "markdown",
      "source": [
        "**Neural Network:**\n",
        "\n",
        "A form of machine learning that uses a layered representation of data."
      ],
      "metadata": {
        "id": "MUWBEhe3Ys-w"
      }
    },
    {
      "cell_type": "markdown",
      "source": [
        "**Different types of machine learning**\n",
        "* Unsupervised Learning\n",
        "* Supervised Learning\n",
        "* Reinforcement Learning"
      ],
      "metadata": {
        "id": "8RWUdt9nZExt"
      }
    },
    {
      "cell_type": "markdown",
      "source": [
        "**Supervised learning:**\n",
        "\n",
        "Supervised learning is a type of machine learning that uses labeled data to train machine learning models. In labeled data, the output is already known. The model just needs to map the inputs to the respective outputs. "
      ],
      "metadata": {
        "id": "kb5gBzd4lccQ"
      }
    },
    {
      "cell_type": "markdown",
      "source": [
        "**Unsupervised Learning**\n",
        "\n",
        "Unsupervised learning is a type of machine learning that uses unlabeled data to train machines. Unlabeled data doesn’t have a fixed output variable. The model learns from the data, discovers the patterns and features in the data, and returns the output. "
      ],
      "metadata": {
        "id": "IwqafPDLoP8B"
      }
    },
    {
      "cell_type": "markdown",
      "source": [
        "**Reinforcement Learning:**\n",
        "\n",
        "Reinforcement Learning trains a machine to take suitable actions and maximize its rewards in a particular situation. It uses an agent and an environment to produce actions and rewards. The agent has a start and an end state. In this learning technique, there is no predefined target variable. "
      ],
      "metadata": {
        "id": "5sp3qkzHoSrN"
      }
    }
  ]
}